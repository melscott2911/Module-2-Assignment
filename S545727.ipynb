{
 "cells": [
  {
   "cell_type": "markdown",
   "id": "b36581a7-b063-4e76-86c9-0242a0209ec2",
   "metadata": {},
   "source": [
    "Mel Scott"
   ]
  },
  {
   "cell_type": "code",
   "execution_count": 4,
   "id": "a049fdbe-a73c-46b0-9c91-59191a52899a",
   "metadata": {},
   "outputs": [
    {
     "name": "stdout",
     "output_type": "stream",
     "text": [
      "*        *\n",
      "**      **\n",
      "***    ***\n",
      "****  ****\n",
      "**********\n"
     ]
    }
   ],
   "source": [
    "n = 5\n",
    "\n",
    "# Upper Triangles\n",
    "for i in range(1, n+1):\n",
    "    print(\"*\"*i, end=\"\")\n",
    "    print(\" \"*(n-i)*2, end=\"\")\n",
    "    print(\"*\"*i)"
   ]
  },
  {
   "cell_type": "code",
   "execution_count": null,
   "id": "93b3be4c-0d39-434f-95dd-9040e55502dc",
   "metadata": {},
   "outputs": [],
   "source": []
  }
 ],
 "metadata": {
  "kernelspec": {
   "display_name": "Python 3 (ipykernel)",
   "language": "python",
   "name": "python3"
  },
  "language_info": {
   "codemirror_mode": {
    "name": "ipython",
    "version": 3
   },
   "file_extension": ".py",
   "mimetype": "text/x-python",
   "name": "python",
   "nbconvert_exporter": "python",
   "pygments_lexer": "ipython3",
   "version": "3.10.8"
  }
 },
 "nbformat": 4,
 "nbformat_minor": 5
}
