{
 "cells": [
  {
   "cell_type": "markdown",
   "metadata": {},
   "source": [
    "# Web Mining and Applied NLP (44-620)\n",
    "\n",
    "## Python Notebooks, Basics, and Data Structures\n",
    "\n",
    "### Student Name: Mel Scott\n",
    "\n",
    "Perform the tasks described in the Markdown cells below.  When you have completed the assignment make sure your code cells have all been run (and have output beneath them) and ensure you have committed and pushed ALL of your changes to your assignment repository.\n",
    "\n",
    "Every question that requires you to write code will have a code cell underneath it; you may either write your entire solution in that cell or write it in a python file (`.py`), then import and run the appropriate code to answer the question.\n",
    "\n",
    "Do not use external modules (`math`, etc) for this assignment unless you are explicitly instructed to, though you may use built in python functions (`min`, `max`, etc) as you wish."
   ]
  },
  {
   "cell_type": "markdown",
   "metadata": {},
   "source": [
    "1. Modify the Markdown cell above to put your name after \"Student Name:\"; you will be expected to do this in all assignments presented in this format for this class."
   ]
  },
  {
   "cell_type": "markdown",
   "metadata": {},
   "source": [
    "2. Write code that divides any two numbers, stores the result in a variable, and prints the result with an appropriate label."
   ]
  },
  {
   "cell_type": "code",
   "execution_count": 7,
   "metadata": {},
   "outputs": [
    {
     "name": "stdout",
     "output_type": "stream",
     "text": [
      "result = 4.0\n"
     ]
    }
   ],
   "source": [
    "number1=20\n",
    "number2=5\n",
    "result = number1/number2\n",
    "print(\"result =\",result)"
   ]
  },
  {
   "cell_type": "markdown",
   "metadata": {},
   "source": [
    "3. Using loops (and potentially conditionals), write Python code that prints the factorial of each integer from 1 through 10 (which you can store in a variable if you want). The factorial of an integer is the product of all of the integers of 1 through the number. Print the result with an appropriate label."
   ]
  },
  {
   "cell_type": "code",
   "execution_count": 7,
   "metadata": {},
   "outputs": [
    {
     "name": "stdout",
     "output_type": "stream",
     "text": [
      "1! = 1\n",
      "2! = 2\n",
      "3! = 6\n",
      "4! = 24\n",
      "5! = 120\n",
      "6! = 720\n",
      "7! = 5040\n",
      "8! = 40320\n",
      "9! = 362880\n",
      "10! = 3628800\n"
     ]
    }
   ],
   "source": [
    "def factorial(n):\n",
    "    result = 1\n",
    "    for i in range(1,n+1):\n",
    "        result = result*i\n",
    "    return result\n",
    "\n",
    "n = 1\n",
    "result = factorial(n)\n",
    "print(n,'! = ',result,sep=\"\")\n",
    "\n",
    "def factorial(n):\n",
    "    result = 1\n",
    "    for i in range(1,n+1):\n",
    "        result = result*i\n",
    "    return result\n",
    "\n",
    "n = 2\n",
    "result = factorial(n)\n",
    "print(n,'! = ',result,sep=\"\")\n",
    "\n",
    "def factorial(n):\n",
    "    result = 1\n",
    "    for i in range(1,n+1):\n",
    "        result = result*i\n",
    "    return result\n",
    "\n",
    "n = 3\n",
    "result = factorial(n)\n",
    "print(n,'! = ',result,sep=\"\")\n",
    "\n",
    "def factorial(n):\n",
    "    result = 1\n",
    "    for i in range(1,n+1):\n",
    "        result = result*i\n",
    "    return result\n",
    "\n",
    "n = 4\n",
    "result = factorial(n)\n",
    "print(n,'! = ',result,sep=\"\")\n",
    "\n",
    "def factorial(n):\n",
    "    result = 1\n",
    "    for i in range(1,n+1):\n",
    "        result = result*i\n",
    "    return result\n",
    "\n",
    "n = 5\n",
    "result = factorial(n)\n",
    "print(n,'! = ',result,sep=\"\")\n",
    "\n",
    "def factorial(n):\n",
    "    result = 1\n",
    "    for i in range(1,n+1):\n",
    "        result = result*i\n",
    "    return result\n",
    "\n",
    "n = 6\n",
    "result = factorial(n)\n",
    "print(n,'! = ',result,sep=\"\")\n",
    "\n",
    "def factorial(n):\n",
    "    result = 1\n",
    "    for i in range(1,n+1):\n",
    "        result = result*i\n",
    "    return result\n",
    "\n",
    "n = 7\n",
    "result = factorial(n)\n",
    "print(n,'! = ',result,sep=\"\")\n",
    "\n",
    "def factorial(n):\n",
    "    result = 1\n",
    "    for i in range(1,n+1):\n",
    "        result = result*i\n",
    "    return result\n",
    "\n",
    "n = 8\n",
    "result = factorial(n)\n",
    "print(n,'! = ',result,sep=\"\")\n",
    "\n",
    "def factorial(n):\n",
    "    result = 1\n",
    "    for i in range(1,n+1):\n",
    "        result = result*i\n",
    "    return result\n",
    "\n",
    "n = 9\n",
    "result = factorial(n)\n",
    "print(n,'! = ',result,sep=\"\")\n",
    "\n",
    "def factorial(n):\n",
    "    result = 1\n",
    "    for i in range(1,n+1):\n",
    "        result = result*i\n",
    "    return result\n",
    "\n",
    "n = 10\n",
    "result = factorial(n)\n",
    "print(n,'! = ',result,sep=\"\")"
   ]
  },
  {
   "cell_type": "markdown",
   "metadata": {},
   "source": [
    "4. Write a python function that takes a single parameter and calculates and returns the average (mean) of the values in the parameter (which you may assume is iterable).  Show that your function works by printing the result of calling the function on the list in the cell below."
   ]
  },
  {
   "cell_type": "code",
   "execution_count": 10,
   "metadata": {},
   "outputs": [
    {
     "name": "stdout",
     "output_type": "stream",
     "text": [
      "The average is 0\n"
     ]
    }
   ],
   "source": [
    "from statistics import mean\n",
    "testlist = [1,-1,2,-2,3,-3,4,-4]\n",
    "avg = mean(testlist)\n",
    "print(\"The average is\", avg)"
   ]
  },
  {
   "cell_type": "markdown",
   "metadata": {},
   "source": [
    "5. Using your mean function above, write a function that calculates the variance of the list of numbers (see https://en.wikipedia.org/wiki/Variance for more information on the formula). In short:\n",
    "* subtract the mean of the elements in the list from every element in the list; store these values in a new list\n",
    "* square every element in the new list and sum the elements together\n",
    "* divide the resulting number by N (where N is the length of the original list)\n",
    "\n",
    "Show the result of calling your function in the lists in the code cell. You must use one or more list comprehensions or map/filter in your code.\n"
   ]
  },
  {
   "cell_type": "code",
   "execution_count": 10,
   "metadata": {},
   "outputs": [
    {
     "name": "stdout",
     "output_type": "stream",
     "text": [
      "The average is -0.3881\n",
      "[0.9551, -1.0918999999999999, -0.16890000000000005, -1.0819, 1.1221, 1.4381, 0.8361000000000001, 0.6451, -1.5819, -1.0718999999999999]\n",
      "Variance of list 1 = 1.13973309\n"
     ]
    }
   ],
   "source": [
    "from statistics import mean\n",
    "list1 = [ 5.670e-1, -1.480e+0, -5.570e-1, -1.470e+0, 7.340e-1, 1.050e+0, 4.480e-1, 2.570e-1, -1.970e+0, -1.460e+0]\n",
    "avg = mean(list1)\n",
    "print(\"The average is\", avg)\n",
    "Newlist1= [x - -0.3881 for x in list1]\n",
    "print(Newlist1)\n",
    "SquaredSum=sum(i**2 for i in Newlist1)\n",
    "SquaredSum\n",
    "N=10\n",
    "DivisionList= SquaredSum/N\n",
    "print(\"Variance of list 1 =\",DivisionList)"
   ]
  },
  {
   "cell_type": "code",
   "execution_count": 9,
   "metadata": {},
   "outputs": [
    {
     "name": "stdout",
     "output_type": "stream",
     "text": [
      "The average is 0.64705\n",
      "[-2.42725, -0.38305, 0.5129499999999999, 0.26095, 1.1329500000000001, 0.43295000000000006, 0.40295000000000003, -0.69335, 0.87295, -0.11204999999999998]\n",
      "Variance of list 2 = 0.9258203705\n"
     ]
    }
   ],
   "source": [
    "from statistics import mean\n",
    "list2 = [-1.7802+0, 2.640e-1, 1.160e+0, 9.080e-1, 1.780e+0, 1.080e+0, 1.050e+0, -4.630e-2, 1.520e+0, 5.350e-1]\n",
    "avg = mean(list2)\n",
    "print(\"The average is\", avg)\n",
    "Newlist2= [x - 0.64705 for x in list2]\n",
    "print(Newlist2)\n",
    "SquaredSum2=sum(i**2 for i in Newlist2)\n",
    "SquaredSum2\n",
    "N=10\n",
    "DivisionList2= SquaredSum2/N\n",
    "print(\"Variance of list 2 =\",DivisionList2)\n",
    "# the variances of both lists should be relatively close to 1 (off by less than .15"
   ]
  },
  {
   "cell_type": "markdown",
   "metadata": {},
   "source": [
    "6. Create a list with at least 15 elements in it. Use list slicing to print the following:\n",
    "* The first 5 elements of the list\n",
    "* The last 5 elements of the list\n",
    "* The list reversed (hint, show the entire list with a stride of -1)\n",
    "* Every second element in the list\n",
    "* Every third element in the list (stride of 3)"
   ]
  },
  {
   "cell_type": "code",
   "execution_count": 33,
   "metadata": {},
   "outputs": [
    {
     "name": "stdout",
     "output_type": "stream",
     "text": [
      "[39, 12, 15, 45, 26]\n",
      "[64, 33, 99, 52, 27]\n",
      "[27, 52, 99, 33, 64, 89, 93, 29, 77, 18, 14, 26, 45, 15, 12, 39]\n",
      "[39, 15, 26, 18, 29, 89, 33, 52]\n",
      "[39, 45, 18, 93, 33, 27]\n"
     ]
    }
   ],
   "source": [
    "MyList= [39, 12, 15, 45, 26, 14, 18, 77, 29, 93, 89, 64, 33, 99, 52, 27]\n",
    "firstFive = MyList[0:5]\n",
    "print(firstFive) \n",
    "lastFive = MyList [11:16]\n",
    "print(lastFive)\n",
    "print(MyList[::-1])\n",
    "print(MyList[::2])\n",
    "print(MyList[::3])"
   ]
  },
  {
   "cell_type": "markdown",
   "metadata": {},
   "source": [
    "7. Build a dictionary that contains the following information about this class (with appropriate names as keys):\n",
    "* The name\n",
    "* The course number\n",
    "* The semester/term in which you are taking this course\n",
    "* The number of credit hours this course counts for\n",
    "* A list of the course learning objectives\n",
    "\n",
    "The majority of this information can be found in the syllabus. Print the dictionary."
   ]
  },
  {
   "cell_type": "code",
   "execution_count": 36,
   "metadata": {},
   "outputs": [
    {
     "name": "stdout",
     "output_type": "stream",
     "text": [
      "{'name': 'Web Mining & Applied Natural Language Processing', 'course number': '44-620', 'semester': 'Fall Semester-OP2', 'Credit Hours': 3, 'Learning Objectives': ['Manage Python libraries and packages', 'Interact with Hosted Version Control Systems', 'Programmatically obtain and transform data from web-based APIs and HTML pages into a usable form', 'Describe the steps in a basic Natural Language Processing Pipeline', '. Use preexisting tools and software libraries to perform some Natural Language Processing, such as sentiment', 'Explain results and conclusions drawn from the visualized information']}\n"
     ]
    }
   ],
   "source": [
    "Fall_2_Class = {'name': 'Web Mining & Applied Natural Language Processing',\n",
    "                'course number': '44-620',\n",
    "                'semester':'Fall Semester-OP2',\n",
    "                'Credit Hours': 3,\n",
    "                'Learning Objectives': ['Manage Python libraries and packages', 'Interact with Hosted Version Control Systems', 'Programmatically obtain and transform data from web-based APIs and HTML pages into a usable form','Describe the steps in a basic Natural Language Processing Pipeline','. Use preexisting tools and software libraries to perform some Natural Language Processing, such as sentiment', 'Explain results and conclusions drawn from the visualized information']}\n",
    "print(Fall_2_Class)\n",
    "                \n",
    "                "
   ]
  },
  {
   "cell_type": "markdown",
   "metadata": {},
   "source": [
    "8.  Given the dictionary defined in the code cell below, print the list of level 3 spells the character has."
   ]
  },
  {
   "cell_type": "code",
   "execution_count": 45,
   "metadata": {},
   "outputs": [
    {
     "name": "stdout",
     "output_type": "stream",
     "text": [
      "['Mass Healing Word', 'Nondetection', 'Revivify', 'Feign Death', 'Speak with Dead']\n"
     ]
    }
   ],
   "source": [
    "player_character = {'name': 'Kitab',\n",
    "                   'class': [('Cleric: Knowledge', 7)],\n",
    "                   'spells': {'cantrip': ['Guidance', 'Light', 'Thaumaturgy', 'Toll the Dead', 'Word of Radiance'],\n",
    "                             'level 1': ['Command', 'Detect Magic', 'Healing Word', 'Identify', 'Sleep'],\n",
    "                             'level 2': ['Augury', 'Calm Emotions', 'Command', 'Invisibility', 'Lesser Restoration'],\n",
    "                             'level 3': ['Mass Healing Word', 'Nondetection', 'Revivify', 'Feign Death', 'Speak with Dead'],\n",
    "                             'level 4': ['Banishment', 'Confusion']}\n",
    "                   }\n",
    "print(player_character['spells']['level 3'])"
   ]
  },
  {
   "cell_type": "markdown",
   "metadata": {},
   "source": [
    "9. Write code to determine the number of unique elements in the list below.  You MUST use a set in finding your solution.  Print the number of unique values in the list with an appropriate label."
   ]
  },
  {
   "cell_type": "code",
   "execution_count": 6,
   "metadata": {},
   "outputs": [
    {
     "name": "stdout",
     "output_type": "stream",
     "text": [
      "Unique values are: [0, 1, 5, 6, 7, 8, 9, 10, 11, 12, 13, 15]\n"
     ]
    }
   ],
   "source": [
    "values = [10, 11, 10, 8, 1, 12, 0, 1, 6, 5, 5, 13, 6, 15, 0, 0, 1, 1, 9, 7]\n",
    " \n",
    "def get_unique_values(values):\n",
    "\n",
    "    list_of_unique_values = []\n",
    "\n",
    "    unique_values = set(values)\n",
    "\n",
    "    for number in unique_values:\n",
    "        list_of_unique_values.append(number)\n",
    "\n",
    "    return list_of_unique_values\n",
    "\n",
    "\n",
    "print(\"Unique values are:\",get_unique_values(values))"
   ]
  },
  {
   "cell_type": "markdown",
   "metadata": {},
   "source": [
    "10. Create a new Jupyter Notebook (the name of the notebook should be your S number). Add a Markdown cell that contains your name. Add a Code cell and write Python that uses loops to draw the following pattern:\n",
    "\n",
    "```\n",
    "*      *\n",
    "**    **\n",
    "***  ***\n",
    "********\n",
    "```\n",
    "Make sure to add and submit both the new notebook and the changes to this notebook for this assignment."
   ]
  },
  {
   "cell_type": "code",
   "execution_count": null,
   "metadata": {},
   "outputs": [],
   "source": []
  }
 ],
 "metadata": {
  "kernelspec": {
   "display_name": "Python 3 (ipykernel)",
   "language": "python",
   "name": "python3"
  },
  "language_info": {
   "codemirror_mode": {
    "name": "ipython",
    "version": 3
   },
   "file_extension": ".py",
   "mimetype": "text/x-python",
   "name": "python",
   "nbconvert_exporter": "python",
   "pygments_lexer": "ipython3",
   "version": "3.10.8"
  },
  "toc-showtags": false
 },
 "nbformat": 4,
 "nbformat_minor": 4
}
